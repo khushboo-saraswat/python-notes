{
 "cells": [
  {
   "cell_type": "markdown",
   "metadata": {
    "collapsed": true
   },
   "source": [
    "# swastik\n"
   ]
  },
  {
   "cell_type": "code",
   "execution_count": 2,
   "metadata": {},
   "outputs": [
    {
     "name": "stdout",
     "output_type": "stream",
     "text": [
      "enter no of rows : 10\n",
      "*    ******\n",
      "*    *\n",
      "*    *\n",
      "*    *\n",
      "*    *\n",
      "***********\n",
      "     *    *\n",
      "     *    *\n",
      "     *    *\n",
      "     *    *\n",
      "******    *\n"
     ]
    }
   ],
   "source": [
    "n = int(input(\"enter no of rows : \"))\n",
    "if not( n % 2 ) :\n",
    "    n += 1\n",
    "for row in range(1,n+1):\n",
    "    if row == 1 :\n",
    "        print(\"*\",end='')\n",
    "        print(\" \"*(n//2-1),end='')\n",
    "        print(\"*\"*(n//2+1))\n",
    "    elif row <= n//2 :\n",
    "        print('*',end='')\n",
    "        print(\" \"*(n//2-1),end='')\n",
    "        print(\"*\")\n",
    "    elif row == ( n // 2 + 1 ) :\n",
    "        print(\"*\"*n)\n",
    "    elif row <= n -1 :\n",
    "        print(\" \"*(n//2),end='')\n",
    "        print(\"*\",end='')\n",
    "        print(\" \"*(n//2-1),end='')\n",
    "        print(\"*\")\n",
    "    else :\n",
    "        print(\"*\"*(n//2+1),end='')\n",
    "        print(\" \"*(n//2-1),end='')\n",
    "        print(\"*\")"
   ]
  },
  {
   "cell_type": "code",
   "execution_count": 1,
   "metadata": {},
   "outputs": [
    {
     "name": "stdout",
     "output_type": "stream",
     "text": [
      "enter a num : 10\n",
      "********\n",
      " *******\n",
      "  ******\n",
      "   *****\n",
      "    ****\n",
      "     ***\n",
      "      **\n",
      "       *\n",
      "        \n",
      "         \n"
     ]
    }
   ],
   "source": [
    "n = int(input(\"enter a num : \"))\n",
    "for row in range(1,n+1):\n",
    "    print(\" \"*(row-1),end='')\n",
    "    print(\"*\"*(n-row-1),end='')\n",
    "    print()"
   ]
  },
  {
   "cell_type": "code",
   "execution_count": 3,
   "metadata": {},
   "outputs": [
    {
     "name": "stdout",
     "output_type": "stream",
     "text": [
      "enter a num : 10\n",
      "*********\n",
      "********\n",
      "*******\n",
      "******\n",
      "*****\n",
      "****\n",
      "***\n",
      "**\n",
      "*\n",
      "\n"
     ]
    }
   ],
   "source": [
    "n = int(input(\"enter a num : \"))\n",
    "for row in range(1,n+1):\n",
    "    print(\"*\"*(n-row),end='')\n",
    "    print()\n",
    "    "
   ]
  },
  {
   "cell_type": "code",
   "execution_count": 4,
   "metadata": {},
   "outputs": [
    {
     "name": "stdout",
     "output_type": "stream",
     "text": [
      "enter a num : 10\n",
      "\t          *\n",
      "\t         ***\n",
      "\t        *****\n",
      "\t       *******\n",
      "\t      *********\n",
      "\t     ***********\n",
      "\t    *************\n",
      "\t   ***************\n",
      "\t  *****************\n",
      "\t *******************\n",
      "\t *******************\n",
      "\t  *****************\n",
      "\t   ***************\n",
      "\t    *************\n",
      "\t     ***********\n",
      "\t      *********\n",
      "\t       *******\n",
      "\t        *****\n",
      "\t         ***\n",
      "\t          *\n"
     ]
    }
   ],
   "source": [
    "n = int(input(\"enter a num : \"))\n",
    "for row in range(1,n+1):\n",
    "    print(\"\\t\",end='')\n",
    "    c = 2*row-1\n",
    "    print(\" \"*(n-c//2),end='')\n",
    "    print(\"*\"*c,end='')\n",
    "    print()\n",
    "for row in range(1,n+1):\n",
    "    print(\"\\t\",end='')\n",
    "    print(\" \"*(row),end='')\n",
    "    print(\"*\"*(2*n-2*row+1),end='')\n",
    "    print()\n",
    "    "
   ]
  },
  {
   "cell_type": "code",
   "execution_count": null,
   "metadata": {
    "collapsed": true
   },
   "outputs": [],
   "source": []
  }
 ],
 "metadata": {
  "kernelspec": {
   "display_name": "Python 3",
   "language": "python",
   "name": "python3"
  },
  "language_info": {
   "codemirror_mode": {
    "name": "ipython",
    "version": 3
   },
   "file_extension": ".py",
   "mimetype": "text/x-python",
   "name": "python",
   "nbconvert_exporter": "python",
   "pygments_lexer": "ipython3",
   "version": "3.6.3"
  }
 },
 "nbformat": 4,
 "nbformat_minor": 2
}
