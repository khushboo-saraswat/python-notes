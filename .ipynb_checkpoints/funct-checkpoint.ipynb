{
 "cells": [
  {
   "cell_type": "code",
   "execution_count": 2,
   "metadata": {},
   "outputs": [
    {
     "name": "stdout",
     "output_type": "stream",
     "text": [
      "enter a number to calculate factorial : 7\n",
      "5040\n",
      "time taken =  0.0\n"
     ]
    }
   ],
   "source": [
    "# recursion\n",
    "# factorial\n",
    "import time\n",
    "num = int(input(\"enter a number to calculate factorial : \"))\n",
    "c = time.time()\n",
    "s = 1\n",
    "for var in range(1,num+1):\n",
    "    s = s * var\n",
    "n = time.time()\n",
    "print(s)\n",
    "print(\"time taken = \",n-c)"
   ]
  },
  {
   "cell_type": "code",
   "execution_count": 1,
   "metadata": {},
   "outputs": [
    {
     "ename": "NameError",
     "evalue": "name 'time' is not defined",
     "output_type": "error",
     "traceback": [
      "\u001b[1;31m---------------------------------------------------------------------------\u001b[0m",
      "\u001b[1;31mNameError\u001b[0m                                 Traceback (most recent call last)",
      "\u001b[1;32m<ipython-input-1-eb2b5b66d454>\u001b[0m in \u001b[0;36m<module>\u001b[1;34m()\u001b[0m\n\u001b[0;32m      5\u001b[0m         \u001b[1;32mreturn\u001b[0m \u001b[1;36m1\u001b[0m\u001b[1;33m\u001b[0m\u001b[0m\n\u001b[0;32m      6\u001b[0m     \u001b[1;32mreturn\u001b[0m \u001b[0mnum\u001b[0m\u001b[1;33m*\u001b[0m\u001b[0mfact\u001b[0m\u001b[1;33m(\u001b[0m\u001b[0mnum\u001b[0m\u001b[1;33m-\u001b[0m\u001b[1;36m1\u001b[0m\u001b[1;33m)\u001b[0m\u001b[1;33m\u001b[0m\u001b[0m\n\u001b[1;32m----> 7\u001b[1;33m \u001b[0mc\u001b[0m \u001b[1;33m=\u001b[0m \u001b[0mtime\u001b[0m\u001b[1;33m.\u001b[0m\u001b[0mtime\u001b[0m\u001b[1;33m(\u001b[0m\u001b[1;33m)\u001b[0m\u001b[1;33m\u001b[0m\u001b[0m\n\u001b[0m\u001b[0;32m      8\u001b[0m \u001b[0mr\u001b[0m \u001b[1;33m=\u001b[0m \u001b[0mfact\u001b[0m\u001b[1;33m(\u001b[0m\u001b[1;36m29999\u001b[0m\u001b[1;33m)\u001b[0m\u001b[1;33m\u001b[0m\u001b[0m\n\u001b[0;32m      9\u001b[0m \u001b[0mn\u001b[0m \u001b[1;33m=\u001b[0m \u001b[0mtime\u001b[0m\u001b[1;33m.\u001b[0m\u001b[0mtime\u001b[0m\u001b[1;33m(\u001b[0m\u001b[1;33m)\u001b[0m\u001b[1;33m\u001b[0m\u001b[0m\n",
      "\u001b[1;31mNameError\u001b[0m: name 'time' is not defined"
     ]
    }
   ],
   "source": [
    "import sys\n",
    "sys.setrecursionlimit(99999)\n",
    "def fact(num):\n",
    "    if num == 1 :\n",
    "        return 1\n",
    "    return num*fact(num-1)\n",
    "c = time.time()\n",
    "r = fact(29999)\n",
    "n = time.time()\n",
    "print(\"time taken : \",n-c)\n"
   ]
  },
  {
   "cell_type": "code",
   "execution_count": 3,
   "metadata": {
    "collapsed": true
   },
   "outputs": [],
   "source": [
    "def count_Digits(num):\n",
    "    \"\"\"count_Digits(num) -> this function takes a num as formal argument and return no of digits in the num.\"\"\"\n",
    "    count = 0\n",
    "    while num:\n",
    "        num = num // 10\n",
    "        count = count + 1\n",
    "    return count    "
   ]
  },
  {
   "cell_type": "code",
   "execution_count": 4,
   "metadata": {},
   "outputs": [
    {
     "data": {
      "text/plain": [
       "4"
      ]
     },
     "execution_count": 4,
     "metadata": {},
     "output_type": "execute_result"
    }
   ],
   "source": [
    "count_Digits(1624)"
   ]
  },
  {
   "cell_type": "code",
   "execution_count": 6,
   "metadata": {},
   "outputs": [
    {
     "name": "stdout",
     "output_type": "stream",
     "text": [
      "enter number : 78906\n",
      "number of digits =  5\n"
     ]
    }
   ],
   "source": [
    "n_digit = count_Digits(int(input(\"enter number : \")))\n",
    "print(\"number of digits = \",n_digit)"
   ]
  },
  {
   "cell_type": "code",
   "execution_count": 7,
   "metadata": {
    "collapsed": true
   },
   "outputs": [],
   "source": [
    "def check_Armstrong(num):\n",
    "    p = count_Digits(num)\n",
    "    copy_num = num\n",
    "    s = 0\n",
    "    while num :\n",
    "        r = num % 10\n",
    "        s = s + r**p\n",
    "        num = num // 10\n",
    "    if s == copy_num :\n",
    "        return True\n",
    "    else :\n",
    "        return False"
   ]
  },
  {
   "cell_type": "code",
   "execution_count": 8,
   "metadata": {
    "collapsed": true
   },
   "outputs": [],
   "source": [
    "def armstrong():\n",
    "    if check_Armstrong(int(input(\"enter a number : \"))) :\n",
    "        print(\"Given no is armstrong \")\n",
    "    else :\n",
    "        print(\"Given no is not a armstrong number \")\n",
    "    if input(\"\\n Type something to repeat again\") :\n",
    "        armstrong()"
   ]
  },
  {
   "cell_type": "code",
   "execution_count": 9,
   "metadata": {},
   "outputs": [
    {
     "name": "stdout",
     "output_type": "stream",
     "text": [
      "enter a number : 370\n",
      "Given no is armstrong \n",
      "\n",
      " Type something to repeat again371\n",
      "enter a number : 371\n",
      "Given no is armstrong \n",
      "\n",
      " Type something to repeat again16\n",
      "enter a number : 1624\n",
      "Given no is not a armstrong number \n",
      "\n",
      " Type something to repeat againdbrbf\n",
      "enter a number : 153\n",
      "Given no is armstrong \n",
      "\n",
      " Type something to repeat again9999\n",
      "enter a number : 9999\n",
      "Given no is not a armstrong number \n",
      "\n",
      " Type something to repeat again\n"
     ]
    }
   ],
   "source": [
    "armstrong()"
   ]
  },
  {
   "cell_type": "code",
   "execution_count": 10,
   "metadata": {},
   "outputs": [
    {
     "name": "stdout",
     "output_type": "stream",
     "text": [
      "Global x =  10\n",
      "Local variable x =  15\n",
      "global x =  10\n"
     ]
    }
   ],
   "source": [
    "x = 10\n",
    "def hey():\n",
    "    s = x\n",
    "    s = s + 5\n",
    "    print(\"Local variable x = \",s)\n",
    "print(\"Global x = \",x)\n",
    "hey()\n",
    "print(\"global x = \",x)"
   ]
  },
  {
   "cell_type": "code",
   "execution_count": 11,
   "metadata": {},
   "outputs": [
    {
     "name": "stdout",
     "output_type": "stream",
     "text": [
      "Before function calling x =   10\n",
      "In function value =  15\n",
      "After function calling x =  15\n"
     ]
    }
   ],
   "source": [
    "x = 10 \n",
    "def change():\n",
    "    global x \n",
    "    x = x + 5\n",
    "    print(\"In function value = \",x)\n",
    "print(\"Before function calling x =  \",x)\n",
    "change()\n",
    "print(\"After function calling x = \",x)"
   ]
  },
  {
   "cell_type": "code",
   "execution_count": 13,
   "metadata": {
    "collapsed": true
   },
   "outputs": [],
   "source": [
    "add = lambda x,y: x+y"
   ]
  },
  {
   "cell_type": "code",
   "execution_count": 14,
   "metadata": {},
   "outputs": [
    {
     "name": "stdout",
     "output_type": "stream",
     "text": [
      "12\n"
     ]
    }
   ],
   "source": [
    "r = add(6,6)\n",
    "print(r)"
   ]
  },
  {
   "cell_type": "code",
   "execution_count": 15,
   "metadata": {
    "collapsed": true
   },
   "outputs": [],
   "source": [
    "sub = lambda a,b: a-b\n"
   ]
  },
  {
   "cell_type": "code",
   "execution_count": 16,
   "metadata": {},
   "outputs": [
    {
     "data": {
      "text/plain": [
       "-1"
      ]
     },
     "execution_count": 16,
     "metadata": {},
     "output_type": "execute_result"
    }
   ],
   "source": [
    "sub(3,4)"
   ]
  },
  {
   "cell_type": "code",
   "execution_count": 17,
   "metadata": {},
   "outputs": [
    {
     "data": {
      "text/plain": [
       "8"
      ]
     },
     "execution_count": 17,
     "metadata": {},
     "output_type": "execute_result"
    }
   ],
   "source": [
    "add(8,0)"
   ]
  },
  {
   "cell_type": "code",
   "execution_count": 18,
   "metadata": {
    "collapsed": true
   },
   "outputs": [],
   "source": [
    "greater = lambda p,q: q if q>p else p "
   ]
  },
  {
   "cell_type": "code",
   "execution_count": 19,
   "metadata": {},
   "outputs": [
    {
     "data": {
      "text/plain": [
       "5"
      ]
     },
     "execution_count": 19,
     "metadata": {},
     "output_type": "execute_result"
    }
   ],
   "source": [
    "greater(5,3)"
   ]
  },
  {
   "cell_type": "code",
   "execution_count": 20,
   "metadata": {},
   "outputs": [
    {
     "name": "stdout",
     "output_type": "stream",
     "text": [
      "7\n"
     ]
    }
   ],
   "source": [
    "print(greater(3,7))"
   ]
  },
  {
   "cell_type": "code",
   "execution_count": 21,
   "metadata": {
    "collapsed": true
   },
   "outputs": [],
   "source": [
    "c = 1\n",
    "def hello():\n",
    "    global c \n",
    "    if c == 10 :\n",
    "        c = 1\n",
    "        return None\n",
    "    print(\"Hello world Times {}\".format(c))\n",
    "    c = c + 1\n",
    "    hello()"
   ]
  },
  {
   "cell_type": "code",
   "execution_count": 22,
   "metadata": {},
   "outputs": [
    {
     "name": "stdout",
     "output_type": "stream",
     "text": [
      "Hello world Times 1\n",
      "Hello world Times 2\n",
      "Hello world Times 3\n",
      "Hello world Times 4\n",
      "Hello world Times 5\n",
      "Hello world Times 6\n",
      "Hello world Times 7\n",
      "Hello world Times 8\n",
      "Hello world Times 9\n"
     ]
    }
   ],
   "source": [
    "hello()"
   ]
  },
  {
   "cell_type": "code",
   "execution_count": 23,
   "metadata": {
    "collapsed": true
   },
   "outputs": [],
   "source": [
    "hello = lambda c: c if c == 10 else (print(\"Hello World\"),hello(c+1))"
   ]
  },
  {
   "cell_type": "code",
   "execution_count": 24,
   "metadata": {},
   "outputs": [
    {
     "name": "stdout",
     "output_type": "stream",
     "text": [
      "Hello World\n",
      "Hello World\n",
      "Hello World\n",
      "Hello World\n",
      "Hello World\n",
      "Hello World\n",
      "Hello World\n",
      "Hello World\n",
      "Hello World\n"
     ]
    },
    {
     "data": {
      "text/plain": [
       "(None, (None, (None, (None, (None, (None, (None, (None, (None, 10)))))))))"
      ]
     },
     "execution_count": 24,
     "metadata": {},
     "output_type": "execute_result"
    }
   ],
   "source": [
    "hello(1)"
   ]
  },
  {
   "cell_type": "code",
   "execution_count": 25,
   "metadata": {
    "collapsed": true
   },
   "outputs": [],
   "source": [
    "fact = lambda num : 1 if num == 1 else num*fact(num-1)"
   ]
  },
  {
   "cell_type": "code",
   "execution_count": 29,
   "metadata": {},
   "outputs": [
    {
     "name": "stdout",
     "output_type": "stream",
     "text": [
      "enter a number : 8\n",
      "40320\n"
     ]
    }
   ],
   "source": [
    "print(fact(int(input(\"enter a number : \"))))"
   ]
  },
  {
   "cell_type": "code",
   "execution_count": 31,
   "metadata": {},
   "outputs": [
    {
     "name": "stdout",
     "output_type": "stream",
     "text": [
      "1 2 5 8 9 7 6 3\n",
      "['1', '2', '5', '8', '9', '7', '6', '3']\n",
      "[1, 2, 5, 8, 9, 7, 6, 3]\n"
     ]
    }
   ],
   "source": [
    "x = input().split()\n",
    "n = []\n",
    "for var in x :\n",
    "    n.append(int(var))\n",
    "print(x)\n",
    "print(n)"
   ]
  },
  {
   "cell_type": "code",
   "execution_count": 32,
   "metadata": {},
   "outputs": [
    {
     "name": "stdout",
     "output_type": "stream",
     "text": [
      "['1', '2', '5', '8', '9', '7', '6', '3']\n"
     ]
    }
   ],
   "source": [
    "print(x)"
   ]
  },
  {
   "cell_type": "code",
   "execution_count": 33,
   "metadata": {},
   "outputs": [
    {
     "name": "stdout",
     "output_type": "stream",
     "text": [
      "1 2 56 87 9 90 78\n",
      "[1, 2, 56, 87, 9, 90, 78]\n"
     ]
    }
   ],
   "source": [
    "x = input().split()\n",
    "y = map(int,x)\n",
    "y = list(y)\n",
    "print(y)"
   ]
  },
  {
   "cell_type": "code",
   "execution_count": null,
   "metadata": {
    "collapsed": true
   },
   "outputs": [],
   "source": []
  }
 ],
 "metadata": {
  "kernelspec": {
   "display_name": "Python 3",
   "language": "python",
   "name": "python3"
  },
  "language_info": {
   "codemirror_mode": {
    "name": "ipython",
    "version": 3
   },
   "file_extension": ".py",
   "mimetype": "text/x-python",
   "name": "python",
   "nbconvert_exporter": "python",
   "pygments_lexer": "ipython3",
   "version": "3.6.3"
  }
 },
 "nbformat": 4,
 "nbformat_minor": 2
}
